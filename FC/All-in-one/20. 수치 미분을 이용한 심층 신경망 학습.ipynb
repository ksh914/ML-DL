{
 "cells": [
  {
   "cell_type": "markdown",
   "metadata": {},
   "source": [
    "## 수치 미분을 이용한 심층 신경망 학습"
   ]
  },
  {
   "cell_type": "markdown",
   "metadata": {},
   "source": [
    "## Import modules"
   ]
  },
  {
   "cell_type": "code",
   "execution_count": 1,
   "metadata": {},
   "outputs": [],
   "source": [
    "import time\n",
    "import numpy as np"
   ]
  },
  {
   "cell_type": "markdown",
   "metadata": {},
   "source": [
    "## 유틸리티 함수"
   ]
  },
  {
   "cell_type": "code",
   "execution_count": 2,
   "metadata": {},
   "outputs": [],
   "source": [
    "epsilon = 0.0001\n",
    "\n",
    "def _t(x):\n",
    "    return np.transpose(x)\n",
    "\n",
    "def _m(A, B):\n",
    "    return np.matmul(A, B)\n",
    "\n",
    "def sigmoid(x):\n",
    "    return 1 / (1 + np.exp(-x))\n",
    "\n",
    "def mean_squared_error(h, y):\n",
    "    return 1 / 2 * np.mean(np.square(h - y))"
   ]
  },
  {
   "cell_type": "markdown",
   "metadata": {},
   "source": [
    "## Dense Layer 구현"
   ]
  },
  {
   "cell_type": "code",
   "execution_count": 7,
   "metadata": {},
   "outputs": [],
   "source": [
    "class Dense:\n",
    "    def __init__(self, W, b, a):\n",
    "        self.W = W\n",
    "        self.b = b\n",
    "        self.a = a\n",
    "        \n",
    "        self.dW = np.zeros_like(self.W)\n",
    "        self.db = np.zeros_like(self.b)\n",
    "\n",
    "    def __call__(self, x):\n",
    "        return self.a(_m(_t(self.W),x) + self.b) # matmul((i x o)T x (i x 1)) + (o x 1)"
   ]
  },
  {
   "cell_type": "markdown",
   "metadata": {},
   "source": [
    "## 심층신경망 구현"
   ]
  },
  {
   "cell_type": "code",
   "execution_count": 23,
   "metadata": {},
   "outputs": [],
   "source": [
    "class DNN:\n",
    "    def __init__(self, hidden_depth, num_neuron, num_input, num_output, activation=sigmoid):\n",
    "        def init_var(i, o):\n",
    "            return np.random.normal(0.0, 0.01, (i, o)), np.zeros((o,))\n",
    "\n",
    "        self.sequence = list()\n",
    "        # First hidden layer\n",
    "        W, b = init_var(num_input, num_neuron)\n",
    "        self.sequence.append(Dense(W,b, activation))\n",
    "        \n",
    "        # Hidden layers\n",
    "        for _ in range(hidden_depth - 1):\n",
    "            W, b = init_var(num_neuron, num_neuron)\n",
    "            self.sequence.append(Dense(W,b, activation))\n",
    "\n",
    "        # Output layer\n",
    "        W, b = init_var(num_neuron, num_output)\n",
    "        self.sequence.append(Dense(W,b, activation))\n",
    "\n",
    "    def __call__(self, x):\n",
    "        for layer in self.sequence:\n",
    "            x = layer(x)\n",
    "        return x\n",
    "\n",
    "    def calc_gradient(self, x, y, loss_func):\n",
    "        def get_new_sequence(layer_index, new_layer):\n",
    "            new_sequence = list()\n",
    "            for i, layer in enumerate(self.sequence):\n",
    "                if i == layer_index:\n",
    "                    new_sequence.append(new_layer)\n",
    "                else:\n",
    "                    new_sequence.append(layer)\n",
    "            return new_sequence\n",
    "        \n",
    "        def eval_sequence(x, sequence):\n",
    "            for layer in sequence:\n",
    "                x = layer(x)\n",
    "            return x\n",
    "        \n",
    "        \n",
    "        loss = loss_func(self(x),y)\n",
    "        \n",
    "        for layer_id, layer in enumerate(self.sequence):\n",
    "            for w_i, w in enumerate(layer.W):\n",
    "                for w_j, ww in enumerate(w):\n",
    "                    W = np.copy(layer.W)\n",
    "                    W[w_i][w_j] = ww + epsilon\n",
    "                    \n",
    "                    new_layer = Dense(W, layer.b, layer.a)\n",
    "                    new_seq = get_new_sequence(layer_id, new_layer)\n",
    "                    h = eval_sequence(x, new_seq)\n",
    "                    \n",
    "                    num_grad = (loss_func(h,y) - loss) / epsilon  #(f(x+eps) -f(x)) / eps\n",
    "                    layer.dW[w_i][w_j] = num_grad\n",
    "                    \n",
    "            for b_i, bb in enumerate(layer.b):\n",
    "                b = np.copy(layer.b)\n",
    "                b[b_i] = bb + epsilon\n",
    "\n",
    "                new_layer = Dense(layer.W, b, layer.a)\n",
    "                new_seq = get_new_sequence(layer_id, new_layer)\n",
    "                h = eval_sequence(x, new_seq)\n",
    "\n",
    "                num_grad = (loss_func(h,y) - loss) / epsilon  #(f(x+eps) -f(x)) / eps\n",
    "                layer.db[b_i] = num_grad\n",
    "        \n",
    "        return loss"
   ]
  },
  {
   "cell_type": "markdown",
   "metadata": {},
   "source": [
    "## 경사하강 학습법"
   ]
  },
  {
   "cell_type": "code",
   "execution_count": 24,
   "metadata": {},
   "outputs": [],
   "source": [
    "def gradient_descent(network, x, y, loss_obj, alpha=0.01):\n",
    "    loss = network.calc_gradient(x, y, loss_obj)\n",
    "    for layer in network.sequence:\n",
    "        layer.W += -alpha * layer.dW\n",
    "        layer.b += -alpha * layer.db\n",
    "    return loss"
   ]
  },
  {
   "cell_type": "markdown",
   "metadata": {},
   "source": [
    "## 동작 테스트"
   ]
  },
  {
   "cell_type": "code",
   "execution_count": null,
   "metadata": {},
   "outputs": [
    {
     "name": "stdout",
     "output_type": "stream",
     "text": [
      "Epoch 0: Test loss 0.21986178919740926\n",
      "Epoch 1: Test loss 0.21863657956987728\n",
      "Epoch 2: Test loss 0.21741858621727045\n",
      "Epoch 3: Test loss 0.21620784053039976\n",
      "Epoch 4: Test loss 0.21500437167496075\n",
      "Epoch 5: Test loss 0.21380820661666614\n",
      "Epoch 6: Test loss 0.21261937014762308\n",
      "Epoch 7: Test loss 0.2114378849139646\n",
      "Epoch 8: Test loss 0.2102637714445671\n",
      "Epoch 9: Test loss 0.2090970481808746\n",
      "Epoch 10: Test loss 0.20793773150774902\n",
      "Epoch 11: Test loss 0.2067858357852062\n",
      "Epoch 12: Test loss 0.20564137338106145\n",
      "Epoch 13: Test loss 0.20450435470438683\n",
      "Epoch 14: Test loss 0.20337478823973143\n",
      "Epoch 15: Test loss 0.20225268058195192\n",
      "Epoch 16: Test loss 0.20113803647177336\n",
      "Epoch 17: Test loss 0.2000308588318415\n",
      "Epoch 18: Test loss 0.1989311488032871\n",
      "Epoch 19: Test loss 0.19783890578273725\n",
      "Epoch 20: Test loss 0.19675412745971949\n",
      "Epoch 21: Test loss 0.1956768098544029\n",
      "Epoch 22: Test loss 0.19460694735557388\n",
      "Epoch 23: Test loss 0.1935445327589288\n",
      "Epoch 24: Test loss 0.1924895573054273\n",
      "Epoch 25: Test loss 0.19144201071983508\n",
      "Epoch 26: Test loss 0.1904018812493407\n",
      "Epoch 27: Test loss 0.18936915570217266\n",
      "Epoch 28: Test loss 0.18834381948624557\n",
      "Epoch 29: Test loss 0.18732585664769866\n",
      "Epoch 30: Test loss 0.1863152499093893\n",
      "Epoch 31: Test loss 0.1853119807092066\n",
      "Epoch 32: Test loss 0.18431602923824383\n",
      "Epoch 33: Test loss 0.18332737447873665\n",
      "Epoch 34: Test loss 0.18234599424175768\n",
      "Epoch 35: Test loss 0.1813718652046701\n",
      "Epoch 36: Test loss 0.1804049629482332\n",
      "Epoch 37: Test loss 0.1794452619934062\n",
      "Epoch 38: Test loss 0.17849273583777525\n",
      "Epoch 39: Test loss 0.17754735699158916\n",
      "Epoch 40: Test loss 0.17660909701339672\n",
      "Epoch 41: Test loss 0.17567792654525077\n",
      "Epoch 42: Test loss 0.17475381534743664\n",
      "Epoch 43: Test loss 0.17383673233277724\n",
      "Epoch 44: Test loss 0.17292664560039234\n",
      "Epoch 45: Test loss 0.17202352246901817\n",
      "Epoch 46: Test loss 0.17112732950971887\n",
      "Epoch 47: Test loss 0.17023803257813946\n",
      "Epoch 48: Test loss 0.1693555968462026\n",
      "Epoch 49: Test loss 0.1684799868332016\n",
      "Epoch 50: Test loss 0.1676111664363827\n",
      "Epoch 51: Test loss 0.1667490989609245\n",
      "Epoch 52: Test loss 0.16589374714934857\n",
      "Epoch 53: Test loss 0.16504507321032078\n",
      "Epoch 54: Test loss 0.16420303884688842\n",
      "Epoch 55: Test loss 0.16336760528412064\n",
      "Epoch 56: Test loss 0.16253873329612586\n",
      "Epoch 57: Test loss 0.16171638323248017\n",
      "Epoch 58: Test loss 0.16090051504404734\n"
     ]
    }
   ],
   "source": [
    "x = np.random.normal(0.0, 1.0, (10,))\n",
    "y = np.random.normal(0.0, 1.0, (2,))\n",
    "\n",
    "dnn = DNN(hidden_depth=5, num_neuron=32, num_input=10, num_output=2, activation=sigmoid)\n",
    "\n",
    "t = time.time()\n",
    "for epoch in range(100):\n",
    "    loss = gradient_descent(dnn, x, y, mean_squared_error, 0.01)\n",
    "    print('Epoch {}: Test loss {}'.format(epoch, loss))\n",
    "print('{} seconds elapsed.'.format(time.time() - t))"
   ]
  },
  {
   "cell_type": "code",
   "execution_count": null,
   "metadata": {},
   "outputs": [],
   "source": []
  }
 ],
 "metadata": {
  "kernelspec": {
   "display_name": "Python 3 (ipykernel)",
   "language": "python",
   "name": "python3"
  },
  "language_info": {
   "codemirror_mode": {
    "name": "ipython",
    "version": 3
   },
   "file_extension": ".py",
   "mimetype": "text/x-python",
   "name": "python",
   "nbconvert_exporter": "python",
   "pygments_lexer": "ipython3",
   "version": "3.9.7"
  }
 },
 "nbformat": 4,
 "nbformat_minor": 2
}
