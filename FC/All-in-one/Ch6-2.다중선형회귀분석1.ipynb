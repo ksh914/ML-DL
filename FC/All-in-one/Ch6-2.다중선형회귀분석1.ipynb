{
 "cells": [
  {
   "cell_type": "code",
   "execution_count": 23,
   "id": "94f00251",
   "metadata": {},
   "outputs": [],
   "source": [
    "import os\n",
    "import pandas as pd\n",
    "import numpy as np\n",
    "import statsmodels.api as sm\n",
    "import matplotlib.pyplot as plt"
   ]
  },
  {
   "cell_type": "code",
   "execution_count": 3,
   "id": "ba4d0175",
   "metadata": {},
   "outputs": [],
   "source": [
    "boston = pd.read_csv(\"/Users/kim/Desktop/Data/Boston_house.csv\")"
   ]
  },
  {
   "cell_type": "markdown",
   "id": "8fb1c4f3",
   "metadata": {},
   "source": [
    "# 단순선형회귀분석"
   ]
  },
  {
   "cell_type": "code",
   "execution_count": 4,
   "id": "12083e32",
   "metadata": {},
   "outputs": [
    {
     "data": {
      "text/html": [
       "<div>\n",
       "<style scoped>\n",
       "    .dataframe tbody tr th:only-of-type {\n",
       "        vertical-align: middle;\n",
       "    }\n",
       "\n",
       "    .dataframe tbody tr th {\n",
       "        vertical-align: top;\n",
       "    }\n",
       "\n",
       "    .dataframe thead th {\n",
       "        text-align: right;\n",
       "    }\n",
       "</style>\n",
       "<table border=\"1\" class=\"dataframe\">\n",
       "  <thead>\n",
       "    <tr style=\"text-align: right;\">\n",
       "      <th></th>\n",
       "      <th>AGE</th>\n",
       "      <th>B</th>\n",
       "      <th>RM</th>\n",
       "      <th>CRIM</th>\n",
       "      <th>DIS</th>\n",
       "      <th>INDUS</th>\n",
       "      <th>LSTAT</th>\n",
       "      <th>NOX</th>\n",
       "      <th>PTRATIO</th>\n",
       "      <th>RAD</th>\n",
       "      <th>ZN</th>\n",
       "      <th>TAX</th>\n",
       "      <th>CHAS</th>\n",
       "      <th>Target</th>\n",
       "    </tr>\n",
       "  </thead>\n",
       "  <tbody>\n",
       "    <tr>\n",
       "      <th>0</th>\n",
       "      <td>65.2</td>\n",
       "      <td>396.90</td>\n",
       "      <td>6.575</td>\n",
       "      <td>0.00632</td>\n",
       "      <td>4.0900</td>\n",
       "      <td>2.31</td>\n",
       "      <td>4.98</td>\n",
       "      <td>0.538</td>\n",
       "      <td>15.3</td>\n",
       "      <td>1</td>\n",
       "      <td>18.0</td>\n",
       "      <td>296</td>\n",
       "      <td>0</td>\n",
       "      <td>24.0</td>\n",
       "    </tr>\n",
       "    <tr>\n",
       "      <th>1</th>\n",
       "      <td>78.9</td>\n",
       "      <td>396.90</td>\n",
       "      <td>6.421</td>\n",
       "      <td>0.02731</td>\n",
       "      <td>4.9671</td>\n",
       "      <td>7.07</td>\n",
       "      <td>9.14</td>\n",
       "      <td>0.469</td>\n",
       "      <td>17.8</td>\n",
       "      <td>2</td>\n",
       "      <td>0.0</td>\n",
       "      <td>242</td>\n",
       "      <td>0</td>\n",
       "      <td>21.6</td>\n",
       "    </tr>\n",
       "    <tr>\n",
       "      <th>2</th>\n",
       "      <td>61.1</td>\n",
       "      <td>392.83</td>\n",
       "      <td>7.185</td>\n",
       "      <td>0.02729</td>\n",
       "      <td>4.9671</td>\n",
       "      <td>7.07</td>\n",
       "      <td>4.03</td>\n",
       "      <td>0.469</td>\n",
       "      <td>17.8</td>\n",
       "      <td>2</td>\n",
       "      <td>0.0</td>\n",
       "      <td>242</td>\n",
       "      <td>0</td>\n",
       "      <td>34.7</td>\n",
       "    </tr>\n",
       "    <tr>\n",
       "      <th>3</th>\n",
       "      <td>45.8</td>\n",
       "      <td>394.63</td>\n",
       "      <td>6.998</td>\n",
       "      <td>0.03237</td>\n",
       "      <td>6.0622</td>\n",
       "      <td>2.18</td>\n",
       "      <td>2.94</td>\n",
       "      <td>0.458</td>\n",
       "      <td>18.7</td>\n",
       "      <td>3</td>\n",
       "      <td>0.0</td>\n",
       "      <td>222</td>\n",
       "      <td>0</td>\n",
       "      <td>33.4</td>\n",
       "    </tr>\n",
       "    <tr>\n",
       "      <th>4</th>\n",
       "      <td>54.2</td>\n",
       "      <td>396.90</td>\n",
       "      <td>7.147</td>\n",
       "      <td>0.06905</td>\n",
       "      <td>6.0622</td>\n",
       "      <td>2.18</td>\n",
       "      <td>5.33</td>\n",
       "      <td>0.458</td>\n",
       "      <td>18.7</td>\n",
       "      <td>3</td>\n",
       "      <td>0.0</td>\n",
       "      <td>222</td>\n",
       "      <td>0</td>\n",
       "      <td>36.2</td>\n",
       "    </tr>\n",
       "    <tr>\n",
       "      <th>...</th>\n",
       "      <td>...</td>\n",
       "      <td>...</td>\n",
       "      <td>...</td>\n",
       "      <td>...</td>\n",
       "      <td>...</td>\n",
       "      <td>...</td>\n",
       "      <td>...</td>\n",
       "      <td>...</td>\n",
       "      <td>...</td>\n",
       "      <td>...</td>\n",
       "      <td>...</td>\n",
       "      <td>...</td>\n",
       "      <td>...</td>\n",
       "      <td>...</td>\n",
       "    </tr>\n",
       "    <tr>\n",
       "      <th>501</th>\n",
       "      <td>69.1</td>\n",
       "      <td>391.99</td>\n",
       "      <td>6.593</td>\n",
       "      <td>0.06263</td>\n",
       "      <td>2.4786</td>\n",
       "      <td>11.93</td>\n",
       "      <td>9.67</td>\n",
       "      <td>0.573</td>\n",
       "      <td>21.0</td>\n",
       "      <td>1</td>\n",
       "      <td>0.0</td>\n",
       "      <td>273</td>\n",
       "      <td>0</td>\n",
       "      <td>22.4</td>\n",
       "    </tr>\n",
       "    <tr>\n",
       "      <th>502</th>\n",
       "      <td>76.7</td>\n",
       "      <td>396.90</td>\n",
       "      <td>6.120</td>\n",
       "      <td>0.04527</td>\n",
       "      <td>2.2875</td>\n",
       "      <td>11.93</td>\n",
       "      <td>9.08</td>\n",
       "      <td>0.573</td>\n",
       "      <td>21.0</td>\n",
       "      <td>1</td>\n",
       "      <td>0.0</td>\n",
       "      <td>273</td>\n",
       "      <td>0</td>\n",
       "      <td>20.6</td>\n",
       "    </tr>\n",
       "    <tr>\n",
       "      <th>503</th>\n",
       "      <td>91.0</td>\n",
       "      <td>396.90</td>\n",
       "      <td>6.976</td>\n",
       "      <td>0.06076</td>\n",
       "      <td>2.1675</td>\n",
       "      <td>11.93</td>\n",
       "      <td>5.64</td>\n",
       "      <td>0.573</td>\n",
       "      <td>21.0</td>\n",
       "      <td>1</td>\n",
       "      <td>0.0</td>\n",
       "      <td>273</td>\n",
       "      <td>0</td>\n",
       "      <td>23.9</td>\n",
       "    </tr>\n",
       "    <tr>\n",
       "      <th>504</th>\n",
       "      <td>89.3</td>\n",
       "      <td>393.45</td>\n",
       "      <td>6.794</td>\n",
       "      <td>0.10959</td>\n",
       "      <td>2.3889</td>\n",
       "      <td>11.93</td>\n",
       "      <td>6.48</td>\n",
       "      <td>0.573</td>\n",
       "      <td>21.0</td>\n",
       "      <td>1</td>\n",
       "      <td>0.0</td>\n",
       "      <td>273</td>\n",
       "      <td>0</td>\n",
       "      <td>22.0</td>\n",
       "    </tr>\n",
       "    <tr>\n",
       "      <th>505</th>\n",
       "      <td>80.8</td>\n",
       "      <td>396.90</td>\n",
       "      <td>6.030</td>\n",
       "      <td>0.04741</td>\n",
       "      <td>2.5050</td>\n",
       "      <td>11.93</td>\n",
       "      <td>7.88</td>\n",
       "      <td>0.573</td>\n",
       "      <td>21.0</td>\n",
       "      <td>1</td>\n",
       "      <td>0.0</td>\n",
       "      <td>273</td>\n",
       "      <td>0</td>\n",
       "      <td>11.9</td>\n",
       "    </tr>\n",
       "  </tbody>\n",
       "</table>\n",
       "<p>506 rows × 14 columns</p>\n",
       "</div>"
      ],
      "text/plain": [
       "      AGE       B     RM     CRIM     DIS  INDUS  LSTAT    NOX  PTRATIO  RAD  \\\n",
       "0    65.2  396.90  6.575  0.00632  4.0900   2.31   4.98  0.538     15.3    1   \n",
       "1    78.9  396.90  6.421  0.02731  4.9671   7.07   9.14  0.469     17.8    2   \n",
       "2    61.1  392.83  7.185  0.02729  4.9671   7.07   4.03  0.469     17.8    2   \n",
       "3    45.8  394.63  6.998  0.03237  6.0622   2.18   2.94  0.458     18.7    3   \n",
       "4    54.2  396.90  7.147  0.06905  6.0622   2.18   5.33  0.458     18.7    3   \n",
       "..    ...     ...    ...      ...     ...    ...    ...    ...      ...  ...   \n",
       "501  69.1  391.99  6.593  0.06263  2.4786  11.93   9.67  0.573     21.0    1   \n",
       "502  76.7  396.90  6.120  0.04527  2.2875  11.93   9.08  0.573     21.0    1   \n",
       "503  91.0  396.90  6.976  0.06076  2.1675  11.93   5.64  0.573     21.0    1   \n",
       "504  89.3  393.45  6.794  0.10959  2.3889  11.93   6.48  0.573     21.0    1   \n",
       "505  80.8  396.90  6.030  0.04741  2.5050  11.93   7.88  0.573     21.0    1   \n",
       "\n",
       "       ZN  TAX  CHAS  Target  \n",
       "0    18.0  296     0    24.0  \n",
       "1     0.0  242     0    21.6  \n",
       "2     0.0  242     0    34.7  \n",
       "3     0.0  222     0    33.4  \n",
       "4     0.0  222     0    36.2  \n",
       "..    ...  ...   ...     ...  \n",
       "501   0.0  273     0    22.4  \n",
       "502   0.0  273     0    20.6  \n",
       "503   0.0  273     0    23.9  \n",
       "504   0.0  273     0    22.0  \n",
       "505   0.0  273     0    11.9  \n",
       "\n",
       "[506 rows x 14 columns]"
      ]
     },
     "execution_count": 4,
     "metadata": {},
     "output_type": "execute_result"
    }
   ],
   "source": [
    "boston = pd.read_csv(\"/Users/kim/Desktop/Data/Boston_house.csv\")\n",
    "boston"
   ]
  },
  {
   "cell_type": "code",
   "execution_count": 5,
   "id": "1394572d",
   "metadata": {},
   "outputs": [],
   "source": [
    "# target을 제외한 데이터 추출\n",
    "boston_data = boston.drop(['Target'],axis=1)"
   ]
  },
  {
   "cell_type": "code",
   "execution_count": 6,
   "id": "82e3a544",
   "metadata": {},
   "outputs": [],
   "source": [
    "# 변수 설정 : target/crim/rm/lstat\n",
    "target = boston[['Target']]\n",
    "crim = boston[['CRIM']]\n",
    "rm = boston[['RM']]\n",
    "lstat = boston[['LSTAT']]"
   ]
  },
  {
   "cell_type": "markdown",
   "id": "8f295b13",
   "metadata": {},
   "source": [
    "# 다중선형회귀분석"
   ]
  },
  {
   "cell_type": "markdown",
   "id": "52a5eb6d",
   "metadata": {},
   "source": [
    "## crim,rm,lstat 세 개의 변수를 통해 다중회귀적합"
   ]
  },
  {
   "cell_type": "code",
   "execution_count": 7,
   "id": "729f55b2",
   "metadata": {},
   "outputs": [
    {
     "data": {
      "text/html": [
       "<div>\n",
       "<style scoped>\n",
       "    .dataframe tbody tr th:only-of-type {\n",
       "        vertical-align: middle;\n",
       "    }\n",
       "\n",
       "    .dataframe tbody tr th {\n",
       "        vertical-align: top;\n",
       "    }\n",
       "\n",
       "    .dataframe thead th {\n",
       "        text-align: right;\n",
       "    }\n",
       "</style>\n",
       "<table border=\"1\" class=\"dataframe\">\n",
       "  <thead>\n",
       "    <tr style=\"text-align: right;\">\n",
       "      <th></th>\n",
       "      <th>CRIM</th>\n",
       "      <th>RM</th>\n",
       "      <th>LSTAT</th>\n",
       "    </tr>\n",
       "  </thead>\n",
       "  <tbody>\n",
       "    <tr>\n",
       "      <th>0</th>\n",
       "      <td>0.00632</td>\n",
       "      <td>6.575</td>\n",
       "      <td>4.98</td>\n",
       "    </tr>\n",
       "    <tr>\n",
       "      <th>1</th>\n",
       "      <td>0.02731</td>\n",
       "      <td>6.421</td>\n",
       "      <td>9.14</td>\n",
       "    </tr>\n",
       "    <tr>\n",
       "      <th>2</th>\n",
       "      <td>0.02729</td>\n",
       "      <td>7.185</td>\n",
       "      <td>4.03</td>\n",
       "    </tr>\n",
       "    <tr>\n",
       "      <th>3</th>\n",
       "      <td>0.03237</td>\n",
       "      <td>6.998</td>\n",
       "      <td>2.94</td>\n",
       "    </tr>\n",
       "    <tr>\n",
       "      <th>4</th>\n",
       "      <td>0.06905</td>\n",
       "      <td>7.147</td>\n",
       "      <td>5.33</td>\n",
       "    </tr>\n",
       "  </tbody>\n",
       "</table>\n",
       "</div>"
      ],
      "text/plain": [
       "      CRIM     RM  LSTAT\n",
       "0  0.00632  6.575   4.98\n",
       "1  0.02731  6.421   9.14\n",
       "2  0.02729  7.185   4.03\n",
       "3  0.03237  6.998   2.94\n",
       "4  0.06905  7.147   5.33"
      ]
     },
     "execution_count": 7,
     "metadata": {},
     "output_type": "execute_result"
    }
   ],
   "source": [
    "## boston data에서 crim, rm, lstat 변수만 추출\n",
    "x_data=boston[['CRIM','RM','LSTAT']]\n",
    "x_data.head()"
   ]
  },
  {
   "cell_type": "code",
   "execution_count": 8,
   "id": "bee20fae",
   "metadata": {},
   "outputs": [
    {
     "name": "stderr",
     "output_type": "stream",
     "text": [
      "/Users/kim/opt/anaconda3/lib/python3.9/site-packages/statsmodels/tsa/tsatools.py:142: FutureWarning: In a future version of pandas all arguments of concat except for the argument 'objs' will be keyword-only\n",
      "  x = pd.concat(x[::order], 1)\n"
     ]
    }
   ],
   "source": [
    "# 상수항 추가\n",
    "x_data1=sm.add_constant(x_data,has_constant=\"add\")"
   ]
  },
  {
   "cell_type": "code",
   "execution_count": 9,
   "id": "84f5261e",
   "metadata": {},
   "outputs": [],
   "source": [
    "# 회귀모델 적합\n",
    "multi_model=sm.OLS(target,x_data1)\n",
    "fitted_multi_model = multi_model.fit()"
   ]
  },
  {
   "cell_type": "code",
   "execution_count": 10,
   "id": "37683e5f",
   "metadata": {},
   "outputs": [
    {
     "data": {
      "text/html": [
       "<table class=\"simpletable\">\n",
       "<caption>OLS Regression Results</caption>\n",
       "<tr>\n",
       "  <th>Dep. Variable:</th>         <td>Target</td>      <th>  R-squared:         </th> <td>   0.646</td> \n",
       "</tr>\n",
       "<tr>\n",
       "  <th>Model:</th>                   <td>OLS</td>       <th>  Adj. R-squared:    </th> <td>   0.644</td> \n",
       "</tr>\n",
       "<tr>\n",
       "  <th>Method:</th>             <td>Least Squares</td>  <th>  F-statistic:       </th> <td>   305.2</td> \n",
       "</tr>\n",
       "<tr>\n",
       "  <th>Date:</th>             <td>Sat, 30 Apr 2022</td> <th>  Prob (F-statistic):</th> <td>1.01e-112</td>\n",
       "</tr>\n",
       "<tr>\n",
       "  <th>Time:</th>                 <td>13:27:44</td>     <th>  Log-Likelihood:    </th> <td> -1577.6</td> \n",
       "</tr>\n",
       "<tr>\n",
       "  <th>No. Observations:</th>      <td>   506</td>      <th>  AIC:               </th> <td>   3163.</td> \n",
       "</tr>\n",
       "<tr>\n",
       "  <th>Df Residuals:</th>          <td>   502</td>      <th>  BIC:               </th> <td>   3180.</td> \n",
       "</tr>\n",
       "<tr>\n",
       "  <th>Df Model:</th>              <td>     3</td>      <th>                     </th>     <td> </td>    \n",
       "</tr>\n",
       "<tr>\n",
       "  <th>Covariance Type:</th>      <td>nonrobust</td>    <th>                     </th>     <td> </td>    \n",
       "</tr>\n",
       "</table>\n",
       "<table class=\"simpletable\">\n",
       "<tr>\n",
       "    <td></td>       <th>coef</th>     <th>std err</th>      <th>t</th>      <th>P>|t|</th>  <th>[0.025</th>    <th>0.975]</th>  \n",
       "</tr>\n",
       "<tr>\n",
       "  <th>const</th> <td>   -2.5623</td> <td>    3.166</td> <td>   -0.809</td> <td> 0.419</td> <td>   -8.783</td> <td>    3.658</td>\n",
       "</tr>\n",
       "<tr>\n",
       "  <th>CRIM</th>  <td>   -0.1029</td> <td>    0.032</td> <td>   -3.215</td> <td> 0.001</td> <td>   -0.166</td> <td>   -0.040</td>\n",
       "</tr>\n",
       "<tr>\n",
       "  <th>RM</th>    <td>    5.2170</td> <td>    0.442</td> <td>   11.802</td> <td> 0.000</td> <td>    4.348</td> <td>    6.085</td>\n",
       "</tr>\n",
       "<tr>\n",
       "  <th>LSTAT</th> <td>   -0.5785</td> <td>    0.048</td> <td>  -12.135</td> <td> 0.000</td> <td>   -0.672</td> <td>   -0.485</td>\n",
       "</tr>\n",
       "</table>\n",
       "<table class=\"simpletable\">\n",
       "<tr>\n",
       "  <th>Omnibus:</th>       <td>171.754</td> <th>  Durbin-Watson:     </th> <td>   0.822</td> \n",
       "</tr>\n",
       "<tr>\n",
       "  <th>Prob(Omnibus):</th> <td> 0.000</td>  <th>  Jarque-Bera (JB):  </th> <td> 628.308</td> \n",
       "</tr>\n",
       "<tr>\n",
       "  <th>Skew:</th>          <td> 1.535</td>  <th>  Prob(JB):          </th> <td>3.67e-137</td>\n",
       "</tr>\n",
       "<tr>\n",
       "  <th>Kurtosis:</th>      <td> 7.514</td>  <th>  Cond. No.          </th> <td>    216.</td> \n",
       "</tr>\n",
       "</table><br/><br/>Notes:<br/>[1] Standard Errors assume that the covariance matrix of the errors is correctly specified."
      ],
      "text/plain": [
       "<class 'statsmodels.iolib.summary.Summary'>\n",
       "\"\"\"\n",
       "                            OLS Regression Results                            \n",
       "==============================================================================\n",
       "Dep. Variable:                 Target   R-squared:                       0.646\n",
       "Model:                            OLS   Adj. R-squared:                  0.644\n",
       "Method:                 Least Squares   F-statistic:                     305.2\n",
       "Date:                Sat, 30 Apr 2022   Prob (F-statistic):          1.01e-112\n",
       "Time:                        13:27:44   Log-Likelihood:                -1577.6\n",
       "No. Observations:                 506   AIC:                             3163.\n",
       "Df Residuals:                     502   BIC:                             3180.\n",
       "Df Model:                           3                                         \n",
       "Covariance Type:            nonrobust                                         \n",
       "==============================================================================\n",
       "                 coef    std err          t      P>|t|      [0.025      0.975]\n",
       "------------------------------------------------------------------------------\n",
       "const         -2.5623      3.166     -0.809      0.419      -8.783       3.658\n",
       "CRIM          -0.1029      0.032     -3.215      0.001      -0.166      -0.040\n",
       "RM             5.2170      0.442     11.802      0.000       4.348       6.085\n",
       "LSTAT         -0.5785      0.048    -12.135      0.000      -0.672      -0.485\n",
       "==============================================================================\n",
       "Omnibus:                      171.754   Durbin-Watson:                   0.822\n",
       "Prob(Omnibus):                  0.000   Jarque-Bera (JB):              628.308\n",
       "Skew:                           1.535   Prob(JB):                    3.67e-137\n",
       "Kurtosis:                       7.514   Cond. No.                         216.\n",
       "==============================================================================\n",
       "\n",
       "Notes:\n",
       "[1] Standard Errors assume that the covariance matrix of the errors is correctly specified.\n",
       "\"\"\""
      ]
     },
     "execution_count": 10,
     "metadata": {},
     "output_type": "execute_result"
    }
   ],
   "source": [
    "# summary 함수를 통해 결과 출력\n",
    "fitted_multi_model.summary()"
   ]
  },
  {
   "cell_type": "code",
   "execution_count": 20,
   "id": "f03dce04",
   "metadata": {},
   "outputs": [
    {
     "name": "stdout",
     "output_type": "stream",
     "text": [
      "const   -2.562251\n",
      "CRIM    -0.102941\n",
      "RM       5.216955\n",
      "LSTAT   -0.578486\n",
      "dtype: float64\n"
     ]
    }
   ],
   "source": [
    "print(fitted_multi_model.params)"
   ]
  },
  {
   "cell_type": "markdown",
   "id": "66e2dbe0",
   "metadata": {},
   "source": [
    "# 행렬 연산을 통해 beta 구하기"
   ]
  },
  {
   "cell_type": "code",
   "execution_count": 19,
   "id": "74cabe49",
   "metadata": {},
   "outputs": [
    {
     "data": {
      "text/plain": [
       "array([[-2.56225101],\n",
       "       [-0.10294089],\n",
       "       [ 5.21695492],\n",
       "       [-0.57848582]])"
      ]
     },
     "execution_count": 19,
     "metadata": {},
     "output_type": "execute_result"
    }
   ],
   "source": [
    "from numpy import linalg ## 행렬 연산을 통한 beta 구하기 (X'X)-X'y\n",
    "ba=linalg.inv(np.dot(x_data1.T,x_data1))\n",
    "np.dot(np.dot(ba,x_data1.T),target)"
   ]
  },
  {
   "cell_type": "code",
   "execution_count": 21,
   "id": "1b9a7b3f",
   "metadata": {},
   "outputs": [],
   "source": [
    "# y_hat 구하기\n",
    "pred4 = fitted_multi_model.predict(x_data1)"
   ]
  },
  {
   "cell_type": "markdown",
   "id": "5b482e6a",
   "metadata": {},
   "source": [
    "## residual model"
   ]
  },
  {
   "cell_type": "code",
   "execution_count": 24,
   "id": "66c67348",
   "metadata": {},
   "outputs": [
    {
     "data": {
      "image/png": "[encoded data removed]",
      "text/plain": [
       "<Figure size 432x288 with 1 Axes>"
      ]
     },
     "metadata": {
      "needs_background": "light"
     },
     "output_type": "display_data"
    }
   ],
   "source": [
    "fitted_multi_model.resid.plot()\n",
    "plt.xlabel(\"residual_number\")\n",
    "plt.show()"
   ]
  },
  {
   "cell_type": "code",
   "execution_count": null,
   "id": "f39aeb2c",
   "metadata": {},
   "outputs": [],
   "source": []
  }
 ],
 "metadata": {
  "kernelspec": {
   "display_name": "Python 3 (ipykernel)",
   "language": "python",
   "name": "python3"
  },
  "language_info": {
   "codemirror_mode": {
    "name": "ipython",
    "version": 3
   },
   "file_extension": ".py",
   "mimetype": "text/x-python",
   "name": "python",
   "nbconvert_exporter": "python",
   "pygments_lexer": "ipython3",
   "version": "3.9.7"
  }
 },
 "nbformat": 4,
 "nbformat_minor": 5
}
